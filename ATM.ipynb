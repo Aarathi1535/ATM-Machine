{
 "cells": [
  {
   "cell_type": "code",
   "execution_count": null,
   "id": "58bdcdea",
   "metadata": {},
   "outputs": [],
   "source": [
    "def login(book): #logging the user\n",
    "    account_no = input(\"Enter your account number:\")\n",
    "    if account_no in book.keys():\n",
    "        print(\"You have logged in successfully.\")\n",
    "        password = input(\"Enter your password:\")\n",
    "        verify(book,account_no,password)\n",
    "    else:\n",
    "        print(\"You are a new user. We will update the data and please try to login again.\")\n",
    "        password = input(\"Enter your new password:\")\n",
    "        book.update({account_no:password})\n",
    "        print(\"Updated Successfully\")\n",
    "        \n",
    "def detail_book():\n",
    "    book = {'ABC12345':\"abc@1234\"} #sample account bank\n",
    "    return book\n",
    "def verify(book,acc,pwd): #verifying the account\n",
    "    attempts = 0\n",
    "    while attempts<3:\n",
    "        if acc in book.keys() and book[acc] == pwd :\n",
    "            print(\"Successful!! Please collect your money.\")\n",
    "            choice = input(\"Credit : Enter c\\nDebit : Enter d\\nCheck Bank Balance : Enter b\\n\")\n",
    "            if choice == 'c':\n",
    "                print(credit_money())\n",
    "            elif choice == 'd':\n",
    "                print(debit_money())\n",
    "            elif choice == 'b':\n",
    "                print(bank_balance())\n",
    "            return\n",
    "        else:\n",
    "            pwd = input(\"Enter your password correctly:\")\n",
    "            attempts += 1\n",
    "    print(\"Too many incorrect attempts. Card blocked!!\")\n",
    "                \n",
    "def credit_money(): \n",
    "    money = input(\"Enter the amount you wish to credit:\")\n",
    "    amount = bank_balance() + int(money)\n",
    "    return amount\n",
    "def debit_money():\n",
    "    money = input(\"Enter the money you wish to debit:\")\n",
    "    amount = bank_balance() - int(money)\n",
    "    return amount\n",
    "def bank_balance():\n",
    "    amount = 1000000\n",
    "    return amount\n",
    "if __name__ == '__main__':\n",
    "    book = detail_book()\n",
    "    login(book)\n",
    "    "
   ]
  },
  {
   "cell_type": "code",
   "execution_count": null,
   "id": "996d658b",
   "metadata": {},
   "outputs": [],
   "source": []
  }
 ],
 "metadata": {
  "kernelspec": {
   "display_name": "Python 3 (ipykernel)",
   "language": "python",
   "name": "python3"
  },
  "language_info": {
   "codemirror_mode": {
    "name": "ipython",
    "version": 3
   },
   "file_extension": ".py",
   "mimetype": "text/x-python",
   "name": "python",
   "nbconvert_exporter": "python",
   "pygments_lexer": "ipython3",
   "version": "3.11.5"
  }
 },
 "nbformat": 4,
 "nbformat_minor": 5
}
